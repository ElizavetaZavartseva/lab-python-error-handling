{
 "cells": [
  {
   "cell_type": "markdown",
   "id": "25d7736c-ba17-4aff-b6bb-66eba20fbf4e",
   "metadata": {},
   "source": [
    "# Lab | Error Handling"
   ]
  },
  {
   "cell_type": "markdown",
   "id": "bc99b386-7508-47a0-bcdb-d969deaf6c8b",
   "metadata": {},
   "source": [
    "## Exercise: Error Handling for Managing Customer Orders\n",
    "\n",
    "The implementation of your code for managing customer orders assumes that the user will always enter a valid input. \n",
    "\n",
    "For example, we could modify the `initialize_inventory` function to include error handling.\n",
    "   - If the user enters an invalid quantity (e.g., a negative value or a non-numeric value), display an error message and ask them to re-enter the quantity for that product.\n",
    "   - Use a try-except block to handle the error and continue prompting the user until a valid quantity is entered.\n",
    "\n",
    "```python\n",
    "# Step 1: Define the function for initializing the inventory with error handling\n",
    "def initialize_inventory(products):\n",
    "    inventory = {}\n",
    "    for product in products:\n",
    "        valid_quantity = False\n",
    "        while not valid_quantity:\n",
    "            try:\n",
    "                quantity = int(input(f\"Enter the quantity of {product}s available: \"))\n",
    "                if quantity < 0:\n",
    "                    raise ValueError(\"Invalid quantity! Please enter a non-negative value.\")\n",
    "                valid_quantity = True\n",
    "            except ValueError as error:\n",
    "                print(f\"Error: {error}\")\n",
    "        inventory[product] = quantity\n",
    "    return inventory\n",
    "\n",
    "# Or, in another way:\n",
    "\n",
    "def initialize_inventory(products):\n",
    "    inventory = {}\n",
    "    for product in products:\n",
    "        valid_input = False\n",
    "        while not valid_input:\n",
    "            try:\n",
    "                quantity = int(input(f\"Enter the quantity of {product}s available: \"))\n",
    "                if quantity >= 0:\n",
    "                    inventory[product] = quantity\n",
    "                    valid_input = True\n",
    "                else:\n",
    "                    print(\"Quantity cannot be negative. Please enter a valid quantity.\")\n",
    "            except ValueError:\n",
    "                print(\"Invalid input. Please enter a valid quantity.\")\n",
    "    return inventory\n",
    "```\n",
    "\n",
    "Let's enhance your code by implementing error handling to handle invalid inputs.\n",
    "\n",
    "Follow the steps below to complete the exercise:\n",
    "\n",
    "2. Modify the `calculate_total_price` function to include error handling.\n",
    "   - If the user enters an invalid price (e.g., a negative value or a non-numeric value), display an error message and ask them to re-enter the price for that product.\n",
    "   - Use a try-except block to handle the error and continue prompting the user until a valid price is entered.\n",
    "\n",
    "3. Modify the `get_customer_orders` function to include error handling.\n",
    "   - If the user enters an invalid number of orders (e.g., a negative value or a non-numeric value), display an error message and ask them to re-enter the number of orders.\n",
    "   - If the user enters an invalid product name (e.g., a product name that is not in the inventory), or that doesn't have stock available, display an error message and ask them to re-enter the product name. *Hint: you will need to pass inventory as a parameter*\n",
    "   - Use a try-except block to handle the error and continue prompting the user until a valid product name is entered.\n",
    "\n",
    "4. Test your code by running the program and deliberately entering invalid quantities and product names. Make sure the error handling mechanism works as expected.\n"
   ]
  },
  {
   "cell_type": "code",
   "execution_count": 67,
   "id": "fc3ba9b5",
   "metadata": {},
   "outputs": [
    {
     "name": "stdout",
     "output_type": "stream",
     "text": [
      "Enter the quantity of t-shirts available: -7\n",
      "Error: Invalid quantity! Please enter a non-negative value.\n",
      "Enter the quantity of t-shirts available: seven\n",
      "Error: invalid literal for int() with base 10: 'seven'\n",
      "Enter the quantity of t-shirts available: 7\n",
      "Enter the quantity of mugs available: 7\n",
      "Enter the quantity of hats available: 7\n",
      "Enter the quantity of books available: 7\n",
      "Enter the quantity of keychains available: 7\n"
     ]
    },
    {
     "data": {
      "text/plain": [
       "{'t-shirt': 7, 'mug': 7, 'hat': 7, 'book': 7, 'keychain': 7}"
      ]
     },
     "execution_count": 67,
     "metadata": {},
     "output_type": "execute_result"
    }
   ],
   "source": [
    "#Solution_1\n",
    "\n",
    "products = [\"t-shirt\", \"mug\", \"hat\", \"book\", \"keychain\"]\n",
    "\n",
    "def initialize_inventory(products):\n",
    "    inventory = {}\n",
    "    for product in products:\n",
    "        valid_quantity = False\n",
    "        while not valid_quantity:\n",
    "            try:\n",
    "                quantity = int(input(f\"Enter the quantity of {product}s available: \"))\n",
    "                if quantity < 0:\n",
    "                    raise ValueError(\"Invalid quantity! Please enter a non-negative value.\")\n",
    "                valid_quantity = True\n",
    "            except ValueError as error:\n",
    "                print(f\"Error: {error}\")\n",
    "        inventory[product] = quantity\n",
    "    return inventory\n",
    "\n",
    "initialize_inventory(products)"
   ]
  },
  {
   "cell_type": "code",
   "execution_count": 75,
   "id": "1b86286f",
   "metadata": {},
   "outputs": [
    {
     "name": "stdout",
     "output_type": "stream",
     "text": [
      "Enter the number of customer orders: -3\n",
      "Error: Invalid number! Please enter a non-negative value.\n",
      "Enter the number of customer orders: three\n",
      "Error: invalid literal for int() with base 10: 'three'\n",
      "Enter the number of customer orders: 3\n",
      "Enter the name of available products:chair\n",
      "Error: Invalid name! Please enter available name from the list: ['t-shirt', 'mug', 'hat', 'book', 'keychain'].\n",
      "Enter the name of available products:Mug\n",
      "Enter the name of available products:bOOk\n",
      "Enter the name of available products:hat\n",
      "{'book', 'mug', 'hat'}\n"
     ]
    }
   ],
   "source": [
    "#Soluton_3\n",
    "\n",
    "def get_customer_orders():\n",
    "    \n",
    "    valid_input_number = False\n",
    "    while not valid_input_number:\n",
    "        try:\n",
    "            input_number = int(input(\"Enter the number of customer orders: \"))\n",
    "            if input_number < 0:\n",
    "                raise ValueError(\"Invalid number! Please enter a non-negative value.\")\n",
    "            valid_input_number = True\n",
    "        except ValueError as error:\n",
    "            print(f\"Error: {error}\")\n",
    "                \n",
    "    customer_orders = set()\n",
    "    \n",
    "    for i in range(input_number):\n",
    "        valid_customer_orders_input = False\n",
    "        while not valid_customer_orders_input:\n",
    "            try:\n",
    "                customer_orders_input = input(f\"Enter the name of available products:\")\n",
    "                if customer_orders_input.lower() not in products:\n",
    "                    raise ValueError(f\"Invalid name! Please enter available name from the list: {products}.\")\n",
    "                valid_customer_orders_input = True\n",
    "            except ValueError as error:\n",
    "                print(f\"Error: {error}\") \n",
    "        customer_orders.add(customer_orders_input.lower())\n",
    "    \n",
    "    return customer_orders\n",
    "    \n",
    "customer_orders = get_customer_orders()    \n",
    "    \n",
    "print(customer_orders)\n"
   ]
  },
  {
   "cell_type": "code",
   "execution_count": 74,
   "id": "82bb986d",
   "metadata": {},
   "outputs": [
    {
     "name": "stdout",
     "output_type": "stream",
     "text": [
      "Enter the price of book: -300\n",
      "Error: Invalid price! Please enter a non-negative value.\n",
      "Enter the price of book: three hundred\n",
      "Error: invalid literal for int() with base 10: 'three hundred'\n",
      "Enter the price of book: 300\n",
      "Enter the price of mug: 300\n",
      "Enter the price of hat: 300\n",
      "900\n"
     ]
    }
   ],
   "source": [
    "#Solution_2\n",
    "\n",
    "def get_total_price(customer_orders):\n",
    "    price_ordered_products = [] #sum([int(input(f\"Enter the price of {item}: \")) for item in customer_orders])\n",
    "    for item in customer_orders:\n",
    "        valid_input_price = False\n",
    "        while not valid_input_price:\n",
    "            try:\n",
    "                input_price = int(input(f\"Enter the price of {item}: \"))\n",
    "                if input_price < 0:\n",
    "                    raise ValueError(\"Invalid price! Please enter a non-negative value.\")\n",
    "                valid_input_price = True\n",
    "            except ValueError as error:\n",
    "                print(f\"Error: {error}\")\n",
    "        price_ordered_products.append(input_price)\n",
    "    return sum(price_ordered_products)\n",
    "    \n",
    "total_price = get_total_price(customer_orders)\n",
    "print(total_price)"
   ]
  },
  {
   "cell_type": "code",
   "execution_count": 73,
   "id": "7bc55e9b",
   "metadata": {},
   "outputs": [
    {
     "name": "stdout",
     "output_type": "stream",
     "text": [
      "Enter the quantity of t-shirts available: -7\n",
      "Error: Invalid quantity! Please enter a non-negative value.\n",
      "Enter the quantity of t-shirts available: seven\n",
      "Error: invalid literal for int() with base 10: 'seven'\n",
      "Enter the quantity of t-shirts available: 7\n",
      "Enter the quantity of mugs available: 7\n",
      "Enter the quantity of hats available: 7\n",
      "Enter the quantity of books available: 7\n",
      "Enter the quantity of keychains available: 7\n",
      "Enter the number of customer orders: -3\n",
      "Error: Invalid number! Please enter a non-negative value.\n",
      "Enter the number of customer orders: three\n",
      "Error: invalid literal for int() with base 10: 'three'\n",
      "Enter the number of customer orders: 3\n",
      "Enter the name of available products:chair\n",
      "Error: Invalid name! Please enter available name from the list: ['t-shirt', 'mug', 'hat', 'book', 'keychain'].\n",
      "Enter the name of available products:Mug\n",
      "Enter the name of available products:bOOK\n",
      "Enter the name of available products:hat\n",
      "Enter the price of book: -300\n",
      "Error: Invalid price! Please enter a non-negative value.\n",
      "Enter the price of book: three hundred\n",
      "Error: invalid literal for int() with base 10: 'three hundred'\n",
      "Enter the price of book: 300\n",
      "Enter the price of mug: 300\n",
      "Enter the price of hat: 300\n"
     ]
    }
   ],
   "source": [
    "#Solution_4\n",
    "\n",
    "inventory = initialize_inventory(products)\n",
    "\n",
    "#for k, v in inventory.items():\n",
    "    #print(f\"The the quantity of {k}: {v}\")\n",
    "\n",
    "customer_orders = get_customer_orders()  \n",
    "\n",
    "total_price = get_total_price(customer_orders)\n"
   ]
  },
  {
   "cell_type": "code",
   "execution_count": null,
   "id": "2ed9f971",
   "metadata": {},
   "outputs": [],
   "source": []
  }
 ],
 "metadata": {
  "kernelspec": {
   "display_name": "Python 3 (ipykernel)",
   "language": "python",
   "name": "python3"
  },
  "language_info": {
   "codemirror_mode": {
    "name": "ipython",
    "version": 3
   },
   "file_extension": ".py",
   "mimetype": "text/x-python",
   "name": "python",
   "nbconvert_exporter": "python",
   "pygments_lexer": "ipython3",
   "version": "3.11.7"
  }
 },
 "nbformat": 4,
 "nbformat_minor": 5
}
